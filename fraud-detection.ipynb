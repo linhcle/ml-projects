{
 "cells": [
  {
   "cell_type": "code",
   "execution_count": 1,
   "id": "a63cfcf4",
   "metadata": {},
   "outputs": [],
   "source": [
    "import numpy as np\n",
    "import pandas as pd\n",
    "import matplotlib.pyplot as plt\n",
    "import warnings\n",
    "warnings.simplefilter('ignore')"
   ]
  },
  {
   "cell_type": "code",
   "execution_count": 2,
   "id": "0d7034cd",
   "metadata": {},
   "outputs": [
    {
     "data": {
      "text/plain": [
       "(1852394, 22)"
      ]
     },
     "execution_count": 2,
     "metadata": {},
     "output_type": "execute_result"
    }
   ],
   "source": [
    "train = pd.read_csv('/Users/linhle/Downloads/fraudTrain.csv', index_col=0, parse_dates=['trans_date_trans_time', 'dob'])\n",
    "test = pd.read_csv('/Users/linhle/Downloads/fraudTest.csv', index_col=0, parse_dates=['trans_date_trans_time', 'dob'])\n",
    "df = pd.concat([train, test])\n",
    "df.shape"
   ]
  },
  {
   "cell_type": "code",
   "execution_count": 3,
   "id": "067a8bfb",
   "metadata": {},
   "outputs": [
    {
     "data": {
      "text/plain": [
       "array(['2019-01-01T00:00:18.000000000', '2019-01-01T00:00:44.000000000',\n",
       "       '2019-01-01T00:00:51.000000000', ...,\n",
       "       '2020-12-31T23:59:15.000000000', '2020-12-31T23:59:24.000000000',\n",
       "       '2020-12-31T23:59:34.000000000'], dtype='datetime64[ns]')"
      ]
     },
     "execution_count": 3,
     "metadata": {},
     "output_type": "execute_result"
    }
   ],
   "source": [
    "df.trans_date_trans_time.unique()"
   ]
  },
  {
   "cell_type": "code",
   "execution_count": 4,
   "id": "f22d8ced",
   "metadata": {},
   "outputs": [
    {
     "name": "stdout",
     "output_type": "stream",
     "text": [
      "<class 'pandas.core.frame.DataFrame'>\n",
      "Int64Index: 1852394 entries, 0 to 555718\n",
      "Data columns (total 22 columns):\n",
      " #   Column                 Dtype         \n",
      "---  ------                 -----         \n",
      " 0   trans_date_trans_time  datetime64[ns]\n",
      " 1   cc_num                 int64         \n",
      " 2   merchant               object        \n",
      " 3   category               object        \n",
      " 4   amt                    float64       \n",
      " 5   first                  object        \n",
      " 6   last                   object        \n",
      " 7   gender                 object        \n",
      " 8   street                 object        \n",
      " 9   city                   object        \n",
      " 10  state                  object        \n",
      " 11  zip                    int64         \n",
      " 12  lat                    float64       \n",
      " 13  long                   float64       \n",
      " 14  city_pop               int64         \n",
      " 15  job                    object        \n",
      " 16  dob                    datetime64[ns]\n",
      " 17  trans_num              object        \n",
      " 18  unix_time              int64         \n",
      " 19  merch_lat              float64       \n",
      " 20  merch_long             float64       \n",
      " 21  is_fraud               int64         \n",
      "dtypes: datetime64[ns](2), float64(5), int64(5), object(10)\n",
      "memory usage: 325.1+ MB\n"
     ]
    }
   ],
   "source": [
    "df.info()"
   ]
  },
  {
   "cell_type": "markdown",
   "id": "ad2fa136",
   "metadata": {},
   "source": [
    "### Question 1. Calculate basic stats descriptive statistics (mean, median, min, max, standard deviation) for each field "
   ]
  },
  {
   "cell_type": "code",
   "execution_count": 5,
   "id": "393ee83f",
   "metadata": {},
   "outputs": [
    {
     "data": {
      "text/html": [
       "<div>\n",
       "<style scoped>\n",
       "    .dataframe tbody tr th:only-of-type {\n",
       "        vertical-align: middle;\n",
       "    }\n",
       "\n",
       "    .dataframe tbody tr th {\n",
       "        vertical-align: top;\n",
       "    }\n",
       "\n",
       "    .dataframe thead th {\n",
       "        text-align: right;\n",
       "    }\n",
       "</style>\n",
       "<table border=\"1\" class=\"dataframe\">\n",
       "  <thead>\n",
       "    <tr style=\"text-align: right;\">\n",
       "      <th></th>\n",
       "      <th>cc_num</th>\n",
       "      <th>amt</th>\n",
       "      <th>zip</th>\n",
       "      <th>lat</th>\n",
       "      <th>long</th>\n",
       "      <th>city_pop</th>\n",
       "      <th>unix_time</th>\n",
       "      <th>merch_lat</th>\n",
       "      <th>merch_long</th>\n",
       "      <th>is_fraud</th>\n",
       "    </tr>\n",
       "  </thead>\n",
       "  <tbody>\n",
       "    <tr>\n",
       "      <th>count</th>\n",
       "      <td>1.852394e+06</td>\n",
       "      <td>1.852394e+06</td>\n",
       "      <td>1.852394e+06</td>\n",
       "      <td>1.852394e+06</td>\n",
       "      <td>1.852394e+06</td>\n",
       "      <td>1.852394e+06</td>\n",
       "      <td>1.852394e+06</td>\n",
       "      <td>1.852394e+06</td>\n",
       "      <td>1.852394e+06</td>\n",
       "      <td>1.852394e+06</td>\n",
       "    </tr>\n",
       "    <tr>\n",
       "      <th>mean</th>\n",
       "      <td>4.173860e+17</td>\n",
       "      <td>7.006357e+01</td>\n",
       "      <td>4.881326e+04</td>\n",
       "      <td>3.853931e+01</td>\n",
       "      <td>-9.022783e+01</td>\n",
       "      <td>8.864367e+04</td>\n",
       "      <td>1.358674e+09</td>\n",
       "      <td>3.853898e+01</td>\n",
       "      <td>-9.022794e+01</td>\n",
       "      <td>5.210015e-03</td>\n",
       "    </tr>\n",
       "    <tr>\n",
       "      <th>std</th>\n",
       "      <td>1.309115e+18</td>\n",
       "      <td>1.592540e+02</td>\n",
       "      <td>2.688185e+04</td>\n",
       "      <td>5.071470e+00</td>\n",
       "      <td>1.374789e+01</td>\n",
       "      <td>3.014876e+05</td>\n",
       "      <td>1.819508e+07</td>\n",
       "      <td>5.105604e+00</td>\n",
       "      <td>1.375969e+01</td>\n",
       "      <td>7.199217e-02</td>\n",
       "    </tr>\n",
       "    <tr>\n",
       "      <th>min</th>\n",
       "      <td>6.041621e+10</td>\n",
       "      <td>1.000000e+00</td>\n",
       "      <td>1.257000e+03</td>\n",
       "      <td>2.002710e+01</td>\n",
       "      <td>-1.656723e+02</td>\n",
       "      <td>2.300000e+01</td>\n",
       "      <td>1.325376e+09</td>\n",
       "      <td>1.902742e+01</td>\n",
       "      <td>-1.666716e+02</td>\n",
       "      <td>0.000000e+00</td>\n",
       "    </tr>\n",
       "    <tr>\n",
       "      <th>25%</th>\n",
       "      <td>1.800429e+14</td>\n",
       "      <td>9.640000e+00</td>\n",
       "      <td>2.623700e+04</td>\n",
       "      <td>3.466890e+01</td>\n",
       "      <td>-9.679800e+01</td>\n",
       "      <td>7.410000e+02</td>\n",
       "      <td>1.343017e+09</td>\n",
       "      <td>3.474012e+01</td>\n",
       "      <td>-9.689944e+01</td>\n",
       "      <td>0.000000e+00</td>\n",
       "    </tr>\n",
       "    <tr>\n",
       "      <th>50%</th>\n",
       "      <td>3.521417e+15</td>\n",
       "      <td>4.745000e+01</td>\n",
       "      <td>4.817400e+04</td>\n",
       "      <td>3.935430e+01</td>\n",
       "      <td>-8.747690e+01</td>\n",
       "      <td>2.443000e+03</td>\n",
       "      <td>1.357089e+09</td>\n",
       "      <td>3.936890e+01</td>\n",
       "      <td>-8.744069e+01</td>\n",
       "      <td>0.000000e+00</td>\n",
       "    </tr>\n",
       "    <tr>\n",
       "      <th>75%</th>\n",
       "      <td>4.642255e+15</td>\n",
       "      <td>8.310000e+01</td>\n",
       "      <td>7.204200e+04</td>\n",
       "      <td>4.194040e+01</td>\n",
       "      <td>-8.015800e+01</td>\n",
       "      <td>2.032800e+04</td>\n",
       "      <td>1.374581e+09</td>\n",
       "      <td>4.195626e+01</td>\n",
       "      <td>-8.024511e+01</td>\n",
       "      <td>0.000000e+00</td>\n",
       "    </tr>\n",
       "    <tr>\n",
       "      <th>max</th>\n",
       "      <td>4.992346e+18</td>\n",
       "      <td>2.894890e+04</td>\n",
       "      <td>9.992100e+04</td>\n",
       "      <td>6.669330e+01</td>\n",
       "      <td>-6.795030e+01</td>\n",
       "      <td>2.906700e+06</td>\n",
       "      <td>1.388534e+09</td>\n",
       "      <td>6.751027e+01</td>\n",
       "      <td>-6.695090e+01</td>\n",
       "      <td>1.000000e+00</td>\n",
       "    </tr>\n",
       "  </tbody>\n",
       "</table>\n",
       "</div>"
      ],
      "text/plain": [
       "             cc_num           amt           zip           lat          long  \\\n",
       "count  1.852394e+06  1.852394e+06  1.852394e+06  1.852394e+06  1.852394e+06   \n",
       "mean   4.173860e+17  7.006357e+01  4.881326e+04  3.853931e+01 -9.022783e+01   \n",
       "std    1.309115e+18  1.592540e+02  2.688185e+04  5.071470e+00  1.374789e+01   \n",
       "min    6.041621e+10  1.000000e+00  1.257000e+03  2.002710e+01 -1.656723e+02   \n",
       "25%    1.800429e+14  9.640000e+00  2.623700e+04  3.466890e+01 -9.679800e+01   \n",
       "50%    3.521417e+15  4.745000e+01  4.817400e+04  3.935430e+01 -8.747690e+01   \n",
       "75%    4.642255e+15  8.310000e+01  7.204200e+04  4.194040e+01 -8.015800e+01   \n",
       "max    4.992346e+18  2.894890e+04  9.992100e+04  6.669330e+01 -6.795030e+01   \n",
       "\n",
       "           city_pop     unix_time     merch_lat    merch_long      is_fraud  \n",
       "count  1.852394e+06  1.852394e+06  1.852394e+06  1.852394e+06  1.852394e+06  \n",
       "mean   8.864367e+04  1.358674e+09  3.853898e+01 -9.022794e+01  5.210015e-03  \n",
       "std    3.014876e+05  1.819508e+07  5.105604e+00  1.375969e+01  7.199217e-02  \n",
       "min    2.300000e+01  1.325376e+09  1.902742e+01 -1.666716e+02  0.000000e+00  \n",
       "25%    7.410000e+02  1.343017e+09  3.474012e+01 -9.689944e+01  0.000000e+00  \n",
       "50%    2.443000e+03  1.357089e+09  3.936890e+01 -8.744069e+01  0.000000e+00  \n",
       "75%    2.032800e+04  1.374581e+09  4.195626e+01 -8.024511e+01  0.000000e+00  \n",
       "max    2.906700e+06  1.388534e+09  6.751027e+01 -6.695090e+01  1.000000e+00  "
      ]
     },
     "execution_count": 5,
     "metadata": {},
     "output_type": "execute_result"
    }
   ],
   "source": [
    "df.describe()"
   ]
  },
  {
   "cell_type": "markdown",
   "id": "95c55d1a",
   "metadata": {},
   "source": [
    "### Question 2. Visualize distributions of data elements using histograms for key variables and predict which variables you expect to be most correlated with default/churn. "
   ]
  },
  {
   "cell_type": "code",
   "execution_count": 4,
   "id": "c3c311da",
   "metadata": {},
   "outputs": [],
   "source": [
    "# trans_date_trans_time\n",
    "df['trans_date'] = df['trans_date_trans_time'].dt.date\n",
    "df['trans_hour'] = df['trans_date_trans_time'].dt.hour\n",
    "df['trans_ym'] = df['trans_date_trans_time'].dt.to_period('M')"
   ]
  },
  {
   "cell_type": "code",
   "execution_count": 6,
   "id": "175b2715",
   "metadata": {
    "scrolled": true
   },
   "outputs": [
    {
     "data": {
      "text/plain": [
       "<PeriodArray>\n",
       "['2019-01', '2019-02', '2019-03', '2019-04', '2019-05', '2019-06', '2019-07',\n",
       " '2019-08', '2019-09', '2019-10', '2019-11', '2019-12', '2020-01', '2020-02',\n",
       " '2020-03', '2020-04', '2020-05', '2020-06', '2020-07', '2020-08', '2020-09',\n",
       " '2020-10', '2020-11', '2020-12']\n",
       "Length: 24, dtype: period[M]"
      ]
     },
     "execution_count": 6,
     "metadata": {},
     "output_type": "execute_result"
    }
   ],
   "source": [
    "df['trans_ym'].unique()"
   ]
  },
  {
   "cell_type": "code",
   "execution_count": 9,
   "id": "b8e7bceb",
   "metadata": {},
   "outputs": [
    {
     "data": {
      "text/plain": [
       "trans_date_trans_time    1842743\n",
       "cc_num                   1842743\n",
       "merchant                 1842743\n",
       "category                 1842743\n",
       "amt                      1842743\n",
       "first                    1842743\n",
       "last                     1842743\n",
       "gender                   1842743\n",
       "street                   1842743\n",
       "city                     1842743\n",
       "state                    1842743\n",
       "zip                      1842743\n",
       "lat                      1842743\n",
       "long                     1842743\n",
       "city_pop                 1842743\n",
       "job                      1842743\n",
       "dob                      1842743\n",
       "trans_num                1842743\n",
       "unix_time                1842743\n",
       "merch_lat                1842743\n",
       "merch_long               1842743\n",
       "is_fraud                 1842743\n",
       "trans_date               1842743\n",
       "trans_hour               1842743\n",
       "trans_ym                 1842743\n",
       "dtype: int64"
      ]
     },
     "execution_count": 9,
     "metadata": {},
     "output_type": "execute_result"
    }
   ],
   "source": [
    "df[df.is_fraud == 0].count()"
   ]
  },
  {
   "cell_type": "code",
   "execution_count": 7,
   "id": "53abffcc",
   "metadata": {},
   "outputs": [],
   "source": [
    "# age = trans_date_trans_time - dob\n",
    "df['age'] = np.round((df['trans_date_trans_time'] - df['dob'])/np.timedelta64(1,'Y'))"
   ]
  },
  {
   "cell_type": "code",
   "execution_count": 8,
   "id": "a3b2ef70",
   "metadata": {},
   "outputs": [
    {
     "data": {
      "image/png": "[encoded data removed]",
      "text/plain": [
       "<Figure size 432x288 with 1 Axes>"
      ]
     },
     "metadata": {
      "needs_background": "light"
     },
     "output_type": "display_data"
    }
   ],
   "source": [
    "cols = ['amt', 'city_pop', 'age', 'is_fraud']\n",
    "fig, ax = plt.subplots()\n",
    "ax.hist(df.amt,range=(1,400))\n",
    "ax.set_title('Histogram of Amount')\n",
    "plt.show()"
   ]
  },
  {
   "cell_type": "code",
   "execution_count": 9,
   "id": "ff14deae",
   "metadata": {},
   "outputs": [
    {
     "data": {
      "image/png": "[encoded data removed]",
      "text/plain": [
       "<Figure size 432x288 with 1 Axes>"
      ]
     },
     "metadata": {
      "needs_background": "light"
     },
     "output_type": "display_data"
    }
   ],
   "source": [
    "cols = ['amt', 'city_pop', 'age', 'is_fraud']\n",
    "fig, ax = plt.subplots()\n",
    "ax.hist(df[df.is_fraud ==1].amt)\n",
    "ax.set_title('Histogram of Amount with Fraud')\n",
    "plt.show()"
   ]
  },
  {
   "cell_type": "code",
   "execution_count": 10,
   "id": "dd3f74f2",
   "metadata": {},
   "outputs": [
    {
     "data": {
      "image/png": "[encoded data removed]",
      "text/plain": [
       "<Figure size 432x288 with 1 Axes>"
      ]
     },
     "metadata": {
      "needs_background": "light"
     },
     "output_type": "display_data"
    }
   ],
   "source": [
    "fig, ax = plt.subplots()\n",
    "ax.hist(df.city_pop,density=True)\n",
    "ax.set_title('Histogram of City Population')\n",
    "plt.show()"
   ]
  },
  {
   "cell_type": "code",
   "execution_count": 11,
   "id": "b7fd7406",
   "metadata": {},
   "outputs": [
    {
     "data": {
      "image/png": "[encoded data removed]",
      "text/plain": [
       "<Figure size 432x288 with 1 Axes>"
      ]
     },
     "metadata": {
      "needs_background": "light"
     },
     "output_type": "display_data"
    }
   ],
   "source": [
    "fig, ax = plt.subplots()\n",
    "ax.hist(df.age)\n",
    "ax.set_title('Histogram of Users Age')\n",
    "plt.show()"
   ]
  },
  {
   "cell_type": "code",
   "execution_count": 12,
   "id": "d49e3fe1",
   "metadata": {},
   "outputs": [
    {
     "data": {
      "image/png": "[encoded data removed]",
      "text/plain": [
       "<Figure size 432x288 with 1 Axes>"
      ]
     },
     "metadata": {
      "needs_background": "light"
     },
     "output_type": "display_data"
    }
   ],
   "source": [
    "fig, ax = plt.subplots()\n",
    "ax.hist(df[df.is_fraud == 1].age)\n",
    "ax.set_title('Histogram of Users Age with Fraud')\n",
    "plt.show()"
   ]
  },
  {
   "cell_type": "code",
   "execution_count": 13,
   "id": "b84d1041",
   "metadata": {},
   "outputs": [
    {
     "data": {
      "image/png": "[encoded data removed]",
      "text/plain": [
       "<Figure size 432x288 with 1 Axes>"
      ]
     },
     "metadata": {
      "needs_background": "light"
     },
     "output_type": "display_data"
    }
   ],
   "source": [
    "fig, ax = plt.subplots()\n",
    "ax.hist(df.is_fraud,density = True)\n",
    "ax.set_title('Histogram of Fraud')\n",
    "plt.show()"
   ]
  },
  {
   "cell_type": "code",
   "execution_count": 14,
   "id": "a89eb508",
   "metadata": {},
   "outputs": [
    {
     "data": {
      "image/png": "[encoded data removed]",
      "text/plain": [
       "<Figure size 1440x360 with 3 Axes>"
      ]
     },
     "metadata": {
      "needs_background": "light"
     },
     "output_type": "display_data"
    }
   ],
   "source": [
    "# amt\n",
    "fig, ax = plt.subplots(1, 3, figsize=(20,5))\n",
    "ax[0].set_ylabel('transactions')\n",
    "\n",
    "ax[0].set_xlabel('amt')\n",
    "ax[1].set_xlabel('amt')\n",
    "ax[2].set_xlabel('amt')\n",
    "\n",
    "ax[0].set_title('all ')\n",
    "ax[1].set_title('non fraud')\n",
    "ax[2].set_title('fraud')\n",
    "\n",
    "ax[0].hist(df.loc[df['amt']<=1400, 'amt'], bins=20)\n",
    "ax[1].hist(df.loc[(df['amt']<=1400) & (df['is_fraud']==0), 'amt'], bins=20)\n",
    "ax[2].hist(df.loc[(df['amt']<=1400) & (df['is_fraud']==1), 'amt'], bins=20);"
   ]
  },
  {
   "cell_type": "markdown",
   "id": "fdd8bc22",
   "metadata": {},
   "source": [
    "#### Feature Engineering"
   ]
  },
  {
   "cell_type": "code",
   "execution_count": 15,
   "id": "d72d90d2",
   "metadata": {},
   "outputs": [],
   "source": [
    "df['agg'] = 1\n",
    "df['index'] = df['trans_date_trans_time']\n",
    "df = df.set_index('index').sort_index()\n",
    "\n",
    "# rolling: 60 day transaction amount average by card number\n",
    "df_amt_60d = df.groupby('cc_num')['amt'].rolling('60D').mean().shift().reset_index().fillna(0)\n",
    "df_amt_60d.columns = ['cc_num','trans_date','avg_amt_60d']\n",
    "df_amt_60d['trans_date'] = df_amt_60d['trans_date'].dt.date\n",
    "df_amt_60d = df_amt_60d.groupby(['cc_num','trans_date'])['avg_amt_60d'].min().reset_index()\n",
    "\n",
    "# rolling: 60 day transactions by card number\n",
    "df_60d = df.groupby('cc_num')['agg'].rolling('60D').count().shift().reset_index().fillna(0)\n",
    "df_60d.columns = ['cc_num','trans_date','60d']\n",
    "df_60d['trans_date'] = df_60d['trans_date'].dt.date\n",
    "df_60d = df_60d.groupby(['cc_num','trans_date'])['60d'].min().reset_index()\n",
    "\n",
    "# merge by cc_num, trans_date\n",
    "df = df.merge(df_amt_60d, left_on = ['cc_num','trans_date'], right_on = ['cc_num','trans_date'], how = 'left')\\\n",
    "    .merge(df_60d, left_on = ['cc_num','trans_date'], right_on = ['cc_num','trans_date'], how = 'left')\n",
    "df[['avg_amt_60d','60d']]= df[['avg_amt_60d','60d']].fillna(0)"
   ]
  },
  {
   "cell_type": "code",
   "execution_count": 16,
   "id": "7079c7bd",
   "metadata": {},
   "outputs": [],
   "source": [
    "# one hot encoding\n",
    "df = pd.concat([df, pd.get_dummies(df[['gender', 'category']], drop_first=True)], axis=1)"
   ]
  },
  {
   "cell_type": "code",
   "execution_count": 17,
   "id": "21f9d7d6",
   "metadata": {},
   "outputs": [
    {
     "data": {
      "text/html": [
       "<div>\n",
       "<style scoped>\n",
       "    .dataframe tbody tr th:only-of-type {\n",
       "        vertical-align: middle;\n",
       "    }\n",
       "\n",
       "    .dataframe tbody tr th {\n",
       "        vertical-align: top;\n",
       "    }\n",
       "\n",
       "    .dataframe thead th {\n",
       "        text-align: right;\n",
       "    }\n",
       "</style>\n",
       "<table border=\"1\" class=\"dataframe\">\n",
       "  <thead>\n",
       "    <tr style=\"text-align: right;\">\n",
       "      <th>is_fraud</th>\n",
       "      <th>0</th>\n",
       "      <th>1</th>\n",
       "    </tr>\n",
       "    <tr>\n",
       "      <th>category</th>\n",
       "      <th></th>\n",
       "      <th></th>\n",
       "    </tr>\n",
       "  </thead>\n",
       "  <tbody>\n",
       "    <tr>\n",
       "      <th>travel</th>\n",
       "      <td>0.031203</td>\n",
       "      <td>0.000084</td>\n",
       "    </tr>\n",
       "    <tr>\n",
       "      <th>grocery_net</th>\n",
       "      <td>0.034929</td>\n",
       "      <td>0.000094</td>\n",
       "    </tr>\n",
       "    <tr>\n",
       "      <th>health_fitness</th>\n",
       "      <td>0.066059</td>\n",
       "      <td>0.000100</td>\n",
       "    </tr>\n",
       "    <tr>\n",
       "      <th>food_dining</th>\n",
       "      <td>0.070462</td>\n",
       "      <td>0.000111</td>\n",
       "    </tr>\n",
       "    <tr>\n",
       "      <th>home</th>\n",
       "      <td>0.094578</td>\n",
       "      <td>0.000143</td>\n",
       "    </tr>\n",
       "    <tr>\n",
       "      <th>personal_care</th>\n",
       "      <td>0.070069</td>\n",
       "      <td>0.000157</td>\n",
       "    </tr>\n",
       "    <tr>\n",
       "      <th>entertainment</th>\n",
       "      <td>0.072245</td>\n",
       "      <td>0.000158</td>\n",
       "    </tr>\n",
       "    <tr>\n",
       "      <th>kids_pets</th>\n",
       "      <td>0.087143</td>\n",
       "      <td>0.000164</td>\n",
       "    </tr>\n",
       "    <tr>\n",
       "      <th>misc_pos</th>\n",
       "      <td>0.061492</td>\n",
       "      <td>0.000174</td>\n",
       "    </tr>\n",
       "    <tr>\n",
       "      <th>gas_transport</th>\n",
       "      <td>0.101089</td>\n",
       "      <td>0.000417</td>\n",
       "    </tr>\n",
       "    <tr>\n",
       "      <th>shopping_pos</th>\n",
       "      <td>0.089294</td>\n",
       "      <td>0.000570</td>\n",
       "    </tr>\n",
       "    <tr>\n",
       "      <th>misc_net</th>\n",
       "      <td>0.048301</td>\n",
       "      <td>0.000638</td>\n",
       "    </tr>\n",
       "    <tr>\n",
       "      <th>shopping_net</th>\n",
       "      <td>0.074014</td>\n",
       "      <td>0.001198</td>\n",
       "    </tr>\n",
       "    <tr>\n",
       "      <th>grocery_pos</th>\n",
       "      <td>0.093913</td>\n",
       "      <td>0.001203</td>\n",
       "    </tr>\n",
       "  </tbody>\n",
       "</table>\n",
       "</div>"
      ],
      "text/plain": [
       "is_fraud               0         1\n",
       "category                          \n",
       "travel          0.031203  0.000084\n",
       "grocery_net     0.034929  0.000094\n",
       "health_fitness  0.066059  0.000100\n",
       "food_dining     0.070462  0.000111\n",
       "home            0.094578  0.000143\n",
       "personal_care   0.070069  0.000157\n",
       "entertainment   0.072245  0.000158\n",
       "kids_pets       0.087143  0.000164\n",
       "misc_pos        0.061492  0.000174\n",
       "gas_transport   0.101089  0.000417\n",
       "shopping_pos    0.089294  0.000570\n",
       "misc_net        0.048301  0.000638\n",
       "shopping_net    0.074014  0.001198\n",
       "grocery_pos     0.093913  0.001203"
      ]
     },
     "execution_count": 17,
     "metadata": {},
     "output_type": "execute_result"
    }
   ],
   "source": [
    "# category\n",
    "(pd.crosstab(df['category'], df['is_fraud'])/len(df)).sort_values(by=1)"
   ]
  },
  {
   "cell_type": "code",
   "execution_count": 18,
   "id": "441e4ba5",
   "metadata": {},
   "outputs": [
    {
     "data": {
      "text/plain": [
       "530.6614122888789"
      ]
     },
     "execution_count": 18,
     "metadata": {},
     "output_type": "execute_result"
    }
   ],
   "source": [
    "df[df.is_fraud == 1]['amt'].mean()"
   ]
  },
  {
   "cell_type": "code",
   "execution_count": 19,
   "id": "9ee5c8fa",
   "metadata": {},
   "outputs": [
    {
     "data": {
      "text/plain": [
       "67.6512778613193"
      ]
     },
     "execution_count": 19,
     "metadata": {},
     "output_type": "execute_result"
    }
   ],
   "source": [
    "df[df.is_fraud == 0]['amt'].mean()"
   ]
  },
  {
   "cell_type": "code",
   "execution_count": 20,
   "id": "6a03105b",
   "metadata": {},
   "outputs": [
    {
     "data": {
      "text/html": [
       "<div>\n",
       "<style scoped>\n",
       "    .dataframe tbody tr th:only-of-type {\n",
       "        vertical-align: middle;\n",
       "    }\n",
       "\n",
       "    .dataframe tbody tr th {\n",
       "        vertical-align: top;\n",
       "    }\n",
       "\n",
       "    .dataframe thead th {\n",
       "        text-align: right;\n",
       "    }\n",
       "</style>\n",
       "<table border=\"1\" class=\"dataframe\">\n",
       "  <thead>\n",
       "    <tr style=\"text-align: right;\">\n",
       "      <th>is_fraud</th>\n",
       "      <th>0</th>\n",
       "      <th>1</th>\n",
       "    </tr>\n",
       "    <tr>\n",
       "      <th>gender</th>\n",
       "      <th></th>\n",
       "      <th></th>\n",
       "    </tr>\n",
       "  </thead>\n",
       "  <tbody>\n",
       "    <tr>\n",
       "      <th>M</th>\n",
       "      <td>0.449631</td>\n",
       "      <td>0.002565</td>\n",
       "    </tr>\n",
       "    <tr>\n",
       "      <th>F</th>\n",
       "      <td>0.545159</td>\n",
       "      <td>0.002645</td>\n",
       "    </tr>\n",
       "  </tbody>\n",
       "</table>\n",
       "</div>"
      ],
      "text/plain": [
       "is_fraud         0         1\n",
       "gender                      \n",
       "M         0.449631  0.002565\n",
       "F         0.545159  0.002645"
      ]
     },
     "execution_count": 20,
     "metadata": {},
     "output_type": "execute_result"
    }
   ],
   "source": [
    "# gender\n",
    "(pd.crosstab(df['gender'], df['is_fraud'])/len(df)).sort_values(by=1)"
   ]
  },
  {
   "cell_type": "code",
   "execution_count": 21,
   "id": "2ce4a292",
   "metadata": {},
   "outputs": [
    {
     "data": {
      "image/png": "[encoded data removed]",
      "text/plain": [
       "<Figure size 216x720 with 1 Axes>"
      ]
     },
     "metadata": {
      "needs_background": "light"
     },
     "output_type": "display_data"
    }
   ],
   "source": [
    "cols = ['amt', 'trans_hour', 'avg_amt_60d', '60d', 'age', 'gender_M', \n",
    "        'category_food_dining', 'category_gas_transport', 'category_grocery_net', 'category_grocery_pos', \n",
    "        'category_health_fitness', 'category_home', 'category_kids_pets', 'category_misc_net', 'category_misc_pos', \n",
    "        'category_personal_care', 'category_shopping_net', 'category_shopping_pos', 'category_travel']\n",
    "import seaborn as sn\n",
    "plt.figure(figsize=(3,10))\n",
    "sn.heatmap(df[cols+['is_fraud']].corr()[['is_fraud']].sort_values(by='is_fraud', ascending=False), annot=True, cbar=False);"
   ]
  },
  {
   "cell_type": "markdown",
   "id": "3c2fd6a6",
   "metadata": {},
   "source": [
    "**Conclusion**: According to the correlation matrix, the credit card usage (*amt*), the cummulative credit card usage (*avg_amt_60d*), usage category have the strongest correlations with our response variable *is_fraud*."
   ]
  },
  {
   "cell_type": "markdown",
   "id": "b5a1db98",
   "metadata": {},
   "source": [
    "### Question 3 + 4. Insert appropriate code to evaluate the credit card fraud detection performance of Decision Trees and Random Forest and Display the output visually using charts of your choosing and explain your choice. (ROC Curve, Confusion Matrix, Gains Table) "
   ]
  },
  {
   "cell_type": "markdown",
   "id": "4ae08902",
   "metadata": {},
   "source": [
    "### i. oversample\n",
    "First, since the data with labelled *fraud* is significant less in our raw data, we will resample our input data so that our raw data has better fraud/not fraud ratios"
   ]
  },
  {
   "cell_type": "code",
   "execution_count": 22,
   "id": "d4c7dd45",
   "metadata": {},
   "outputs": [
    {
     "data": {
      "text/plain": [
       "0    0.99479\n",
       "1    0.00521\n",
       "Name: is_fraud, dtype: float64"
      ]
     },
     "execution_count": 22,
     "metadata": {},
     "output_type": "execute_result"
    }
   ],
   "source": [
    "df['is_fraud'].value_counts(normalize=True)"
   ]
  },
  {
   "cell_type": "code",
   "execution_count": 23,
   "id": "0f1d830b",
   "metadata": {},
   "outputs": [
    {
     "data": {
      "text/plain": [
       "0    0.5\n",
       "1    0.5\n",
       "Name: is_fraud, dtype: float64"
      ]
     },
     "execution_count": 23,
     "metadata": {},
     "output_type": "execute_result"
    }
   ],
   "source": [
    "fraud_oversample = df[df['is_fraud'] == 1].sample(df[df['is_fraud'] == 0]['amt'].count(), replace=True)\n",
    "df_oversampled = pd.concat([df[df['is_fraud'] == 0], fraud_oversample], axis=0)\n",
    "df_oversampled.is_fraud.value_counts(normalize=True)"
   ]
  },
  {
   "cell_type": "markdown",
   "id": "0a5b4783",
   "metadata": {},
   "source": [
    "###  ii. train test split"
   ]
  },
  {
   "cell_type": "code",
   "execution_count": 24,
   "id": "4dd306b8",
   "metadata": {},
   "outputs": [],
   "source": [
    "from sklearn.model_selection import train_test_split\n",
    "X_train, X_test, y_train, y_test = train_test_split(df_oversampled[cols], df_oversampled['is_fraud'], train_size=2/3)"
   ]
  },
  {
   "cell_type": "code",
   "execution_count": 29,
   "id": "c01f1195",
   "metadata": {},
   "outputs": [],
   "source": [
    "from sklearn.metrics import accuracy_score, confusion_matrix, classification_report\n",
    "import scikitplot as skplt\n",
    "from sklearn import metrics\n",
    "def model_results(model):\n",
    "    model.fit(X_train, y_train)\n",
    "    y_train_pred = model.predict(X_train)\n",
    "    y_test_pred = model.predict(X_test)\n",
    "    print('train:')\n",
    "    print(confusion_matrix(y_train, y_train_pred))\n",
    "    print(classification_report(y_train, y_train_pred))\n",
    "    print('test:')\n",
    "    print(confusion_matrix(y_test, y_test_pred))\n",
    "    print(classification_report(y_test, y_test_pred))\n",
    "    y_pred_proba = model.predict_proba(X_test)[::,1]\n",
    "    skplt.metrics.plot_cumulative_gain(y_test, y_pred_proba)\n",
    "    plt.show()\n",
    "    fpr, tpr, _ = metrics.roc_curve(y_test,  y_pred_proba)\n",
    "    auc = metrics.roc_auc_score(y_test, y_pred_proba)\n",
    "    plt.plot(fpr,tpr,label=\"data 1, auc=\"+str(auc))\n",
    "    plt.legend(loc=4)\n",
    "    plt.title('ROC Curve')\n",
    "    plt.show()\n",
    "    return model"
   ]
  },
  {
   "cell_type": "markdown",
   "id": "e6e89cc1",
   "metadata": {},
   "source": [
    "### iii. decision trees"
   ]
  },
  {
   "cell_type": "code",
   "execution_count": 30,
   "id": "e2e192fe",
   "metadata": {},
   "outputs": [
    {
     "name": "stdout",
     "output_type": "stream",
     "text": [
      "train:\n",
      "[[1144389   83865]\n",
      " [ 201386 1027350]]\n",
      "              precision    recall  f1-score   support\n",
      "\n",
      "           0       0.85      0.93      0.89   1228254\n",
      "           1       0.92      0.84      0.88   1228736\n",
      "\n",
      "    accuracy                           0.88   2456990\n",
      "   macro avg       0.89      0.88      0.88   2456990\n",
      "weighted avg       0.89      0.88      0.88   2456990\n",
      "\n",
      "test:\n",
      "[[572669  41820]\n",
      " [100697 513310]]\n",
      "              precision    recall  f1-score   support\n",
      "\n",
      "           0       0.85      0.93      0.89    614489\n",
      "           1       0.92      0.84      0.88    614007\n",
      "\n",
      "    accuracy                           0.88   1228496\n",
      "   macro avg       0.89      0.88      0.88   1228496\n",
      "weighted avg       0.89      0.88      0.88   1228496\n",
      "\n"
     ]
    },
    {
     "ename": "IndexError",
     "evalue": "too many indices for array: array is 1-dimensional, but 2 were indexed",
     "output_type": "error",
     "traceback": [
      "\u001b[0;31m---------------------------------------------------------------------------\u001b[0m",
      "\u001b[0;31mIndexError\u001b[0m                                Traceback (most recent call last)",
      "Input \u001b[0;32mIn [30]\u001b[0m, in \u001b[0;36m<cell line: 2>\u001b[0;34m()\u001b[0m\n\u001b[1;32m      1\u001b[0m \u001b[38;5;28;01mfrom\u001b[39;00m \u001b[38;5;21;01msklearn\u001b[39;00m\u001b[38;5;21;01m.\u001b[39;00m\u001b[38;5;21;01mtree\u001b[39;00m \u001b[38;5;28;01mimport\u001b[39;00m DecisionTreeClassifier\n\u001b[0;32m----> 2\u001b[0m dt \u001b[38;5;241m=\u001b[39m \u001b[43mmodel_results\u001b[49m\u001b[43m(\u001b[49m\u001b[43mDecisionTreeClassifier\u001b[49m\u001b[43m(\u001b[49m\u001b[43mmax_depth\u001b[49m\u001b[38;5;241;43m=\u001b[39;49m\u001b[38;5;241;43m3\u001b[39;49m\u001b[43m)\u001b[49m\u001b[43m)\u001b[49m\n",
      "Input \u001b[0;32mIn [29]\u001b[0m, in \u001b[0;36mmodel_results\u001b[0;34m(model)\u001b[0m\n\u001b[1;32m     13\u001b[0m \u001b[38;5;28mprint\u001b[39m(classification_report(y_test, y_test_pred))\n\u001b[1;32m     14\u001b[0m y_pred_proba \u001b[38;5;241m=\u001b[39m model\u001b[38;5;241m.\u001b[39mpredict_proba(X_test)[::,\u001b[38;5;241m1\u001b[39m]\n\u001b[0;32m---> 15\u001b[0m \u001b[43mskplt\u001b[49m\u001b[38;5;241;43m.\u001b[39;49m\u001b[43mmetrics\u001b[49m\u001b[38;5;241;43m.\u001b[39;49m\u001b[43mplot_cumulative_gain\u001b[49m\u001b[43m(\u001b[49m\u001b[43my_test\u001b[49m\u001b[43m,\u001b[49m\u001b[43m \u001b[49m\u001b[43my_pred_proba\u001b[49m\u001b[43m)\u001b[49m\n\u001b[1;32m     16\u001b[0m plt\u001b[38;5;241m.\u001b[39mshow()\n\u001b[1;32m     17\u001b[0m fpr, tpr, _ \u001b[38;5;241m=\u001b[39m metrics\u001b[38;5;241m.\u001b[39mroc_curve(y_test,  y_pred_proba)\n",
      "File \u001b[0;32m/opt/anaconda3/lib/python3.9/site-packages/scikitplot/metrics.py:1106\u001b[0m, in \u001b[0;36mplot_cumulative_gain\u001b[0;34m(y_true, y_probas, title, ax, figsize, title_fontsize, text_fontsize)\u001b[0m\n\u001b[1;32m   1102\u001b[0m     \u001b[38;5;28;01mraise\u001b[39;00m \u001b[38;5;167;01mValueError\u001b[39;00m(\u001b[38;5;124m'\u001b[39m\u001b[38;5;124mCannot calculate Cumulative Gains for data with \u001b[39m\u001b[38;5;124m'\u001b[39m\n\u001b[1;32m   1103\u001b[0m                      \u001b[38;5;124m'\u001b[39m\u001b[38;5;132;01m{}\u001b[39;00m\u001b[38;5;124m category/ies\u001b[39m\u001b[38;5;124m'\u001b[39m\u001b[38;5;241m.\u001b[39mformat(\u001b[38;5;28mlen\u001b[39m(classes)))\n\u001b[1;32m   1105\u001b[0m \u001b[38;5;66;03m# Compute Cumulative Gain Curves\u001b[39;00m\n\u001b[0;32m-> 1106\u001b[0m percentages, gains1 \u001b[38;5;241m=\u001b[39m cumulative_gain_curve(y_true, \u001b[43my_probas\u001b[49m\u001b[43m[\u001b[49m\u001b[43m:\u001b[49m\u001b[43m,\u001b[49m\u001b[43m \u001b[49m\u001b[38;5;241;43m0\u001b[39;49m\u001b[43m]\u001b[49m,\n\u001b[1;32m   1107\u001b[0m                                             classes[\u001b[38;5;241m0\u001b[39m])\n\u001b[1;32m   1108\u001b[0m percentages, gains2 \u001b[38;5;241m=\u001b[39m cumulative_gain_curve(y_true, y_probas[:, \u001b[38;5;241m1\u001b[39m],\n\u001b[1;32m   1109\u001b[0m                                             classes[\u001b[38;5;241m1\u001b[39m])\n\u001b[1;32m   1111\u001b[0m \u001b[38;5;28;01mif\u001b[39;00m ax \u001b[38;5;129;01mis\u001b[39;00m \u001b[38;5;28;01mNone\u001b[39;00m:\n",
      "\u001b[0;31mIndexError\u001b[0m: too many indices for array: array is 1-dimensional, but 2 were indexed"
     ]
    }
   ],
   "source": [
    "from sklearn.tree import DecisionTreeClassifier\n",
    "dt = model_results(DecisionTreeClassifier(max_depth=3))"
   ]
  },
  {
   "cell_type": "code",
   "execution_count": null,
   "id": "75e44fe6",
   "metadata": {},
   "outputs": [],
   "source": [
    "pd.Series(dt.feature_importances_, index=X_train.columns).sort_values().tail().plot(kind='barh', title='Feature Importance');"
   ]
  },
  {
   "cell_type": "markdown",
   "id": "93c72be8",
   "metadata": {},
   "source": [
    "plt.figure(figsize=(20, 10))\n",
    "from sklearn import tree\n",
    "tree.plot_tree(dt, max_depth=3, feature_names=cols, class_names=['non fraud', 'fraud'], filled=True);"
   ]
  },
  {
   "cell_type": "code",
   "execution_count": null,
   "id": "1e91d08d",
   "metadata": {},
   "outputs": [],
   "source": [
    "plt.figure(figsize=(20, 10))\n",
    "from sklearn import tree\n",
    "tree.plot_tree(dt, max_depth=3, feature_names=cols, class_names=['non fraud', 'fraud'], filled=True);"
   ]
  },
  {
   "cell_type": "markdown",
   "id": "5cbd214d",
   "metadata": {},
   "source": [
    "### iv. random forest"
   ]
  },
  {
   "cell_type": "code",
   "execution_count": null,
   "id": "9e1ac248",
   "metadata": {},
   "outputs": [],
   "source": [
    "from sklearn.ensemble import RandomForestClassifier\n",
    "dr = model_results(RandomForestClassifier(n_estimators=10, max_depth=3))"
   ]
  },
  {
   "cell_type": "code",
   "execution_count": null,
   "id": "d0626896",
   "metadata": {},
   "outputs": [],
   "source": [
    "pd.Series(dr.feature_importances_, index=X_train.columns).sort_values().tail().plot(kind='barh', title='Feature Importance');"
   ]
  },
  {
   "cell_type": "markdown",
   "id": "e9b6949d",
   "metadata": {},
   "source": [
    "### v. Logistic Regression"
   ]
  },
  {
   "cell_type": "code",
   "execution_count": null,
   "id": "c34bb834",
   "metadata": {},
   "outputs": [],
   "source": [
    "from sklearn.linear_model import LogisticRegression\n",
    "dl = model_results(LogisticRegression())"
   ]
  },
  {
   "cell_type": "markdown",
   "id": "984493da",
   "metadata": {},
   "source": []
  },
  {
   "cell_type": "markdown",
   "id": "23b4b684",
   "metadata": {},
   "source": [
    "**Model Evaluation Choices:**\n",
    "\n",
    "Here, I have chosen to inlcude all three ROC Curve, Confusion Matrix, and Gains Table) to be my model evaluation methods. I think that in order to achieve two purposes: i) compare the model performances amongst the different algorithms, and ii) decide if any model is actually good for its explanatory power, I need to access all three ROC Curve, Confusion Matrix, and Gains Table. I also included a feature importance chart, which helps me understand which features were made best use by the models.\n",
    "\n",
    "The Gains Chart of both Decision Tree model and Random Forest model looks very similar. According to our Gains Charts, The Cum Lift of ~2 times for top four deciles, means that when selecting 40% of the records based on the model, one can expect ~2 times the total number of fraudulents events found than by randomly selecting 40%-of-file without a model.\n",
    "The Confusion Matrices show us the number of correct and incorrect predictions are summarized with count values and broken down by each class. We can see that both of our model (Decision Tree and Random Forest) does very well - high precision rate (0.92 and 0.95), accuracy (both 0.88) and recall rate (0.84 and 0.81). At a first glance, there seems to not have much differences between the two models; however, we will later discuss a slight yet important difference in their recall rates that prompt us to choose one model over the other.\n",
    "Lastly, the ROC curve and AUC tells us how good of a classifier our model is. Recall that AUC score 1 represents a perfect classifier, and 0.5 represents a worthless classifier, so our models are very good classifiers with AUC of 0.94 and 0.96.\n",
    "\n",
    "\n",
    "\n",
    "\n"
   ]
  },
  {
   "cell_type": "markdown",
   "id": "8cc9428c",
   "metadata": {},
   "source": [
    "### Question 5. In addition to the spreadsheet/code or programming output you submit, include a separate written document of 250-500 words that summarizes:\n",
    "a) your interpretation of the data via the Exploratory data analysis\n",
    "\n",
    "b) your interpretation  of modeling output of Logistic Regression, Decision Tree and Random Forest\n",
    "\n",
    "c) discuss which variables are most significant and any other unexpected insights."
   ]
  },
  {
   "cell_type": "markdown",
   "id": "10ea5456",
   "metadata": {},
   "source": [
    "Through my Exploratory Data Analysis, I have found a few interesting insights that could be incorporated into our model. As expected, there is no evidence of gender being an indicator of fraud, as the proportion of fraud per gender (Male/Female) is approximately the same. However, purchase categories seem to differ between fraudulent transactions and genuine transactions, with grocery, shopping, and mis being the most frequent categories to be frauded. We could also see that the distribution of transaction amount is lognormal, which is data skewed to the right. This is not surprising because credit card purchases cannot be negative and zero, and it is more infrequent for people to make big purchases than small purchases. However, when looking at the distribution of fraudulent transactions value, we could see that these transactions tend to have higher value, as the average of fraudulent transactions is $530.66, whereas the average of non-fraudulent transactions is only 67.65. I also found that my calculated feature *avg_amt_60d*, which is the average transaction amount in 60 days has a strong correlation with our predictor.\n",
    "\n",
    "Consistently with the insights derived from our EDA, our models’ feature importance returns transaction amount to be the most important feature for both Decision Tree and Random Foreest model. However, our Decision Tree model also finds transaction hour and category (travel) to be important features, whereas Random Forest not only find the transaction hour to be a good feature, but it also finds the average transaction amount in 60 days, and category (pos in grocery) to be important. Since Decision Tree and Random Forest are both tree-based Machine Learning model, I was surprised that the features found to be important in the two models are so different. \n",
    "\n",
    "Both models have a high accuracy, both of 88%. However, when we look at the respective model performance, we could see that our decision tree model does a slightly better job at correctly identifying fraudulent transactions when there are actual fraudulent transactions( recall of 0.84 vs. random forest’s recall of 0.81). In a credit card fraud detection, I think we should use recall as our target metric to maximize, as the effect associated with false negatives (undetected fraudulent transactions) is so severe – we saw how valuable a fraudulent transaction can be. Out of the three models (Random Forest, Decision Tree and Logistic Regression), Random Forest’s AUC score is the best (0.96). Decision Tree’s AUC is 0.94 and Logistic Regression’s AUC is 0.92, which is not far behind. With these high AUC, we can trust the outputs of any of our model, and the choice of model should rely on the practical business needs. \n",
    "\n"
   ]
  },
  {
   "cell_type": "code",
   "execution_count": null,
   "id": "badccca8",
   "metadata": {},
   "outputs": [],
   "source": []
  },
  {
   "cell_type": "markdown",
   "id": "08967249",
   "metadata": {},
   "source": []
  },
  {
   "cell_type": "code",
   "execution_count": null,
   "id": "1c564309",
   "metadata": {},
   "outputs": [],
   "source": []
  },
  {
   "cell_type": "code",
   "execution_count": null,
   "id": "f696377c",
   "metadata": {},
   "outputs": [],
   "source": []
  },
  {
   "cell_type": "markdown",
   "id": "36425589",
   "metadata": {},
   "source": []
  },
  {
   "cell_type": "markdown",
   "id": "712692a9",
   "metadata": {},
   "source": []
  },
  {
   "cell_type": "code",
   "execution_count": null,
   "id": "f6f43d43",
   "metadata": {},
   "outputs": [],
   "source": []
  },
  {
   "cell_type": "code",
   "execution_count": null,
   "id": "e38ed0bb",
   "metadata": {},
   "outputs": [],
   "source": []
  },
  {
   "cell_type": "code",
   "execution_count": null,
   "id": "2f86855a",
   "metadata": {},
   "outputs": [],
   "source": []
  }
 ],
 "metadata": {
  "kernelspec": {
   "display_name": "Python 3 (ipykernel)",
   "language": "python",
   "name": "python3"
  },
  "language_info": {
   "codemirror_mode": {
    "name": "ipython",
    "version": 3
   },
   "file_extension": ".py",
   "mimetype": "text/x-python",
   "name": "python",
   "nbconvert_exporter": "python",
   "pygments_lexer": "ipython3",
   "version": "3.9.12"
  }
 },
 "nbformat": 4,
 "nbformat_minor": 5
}
